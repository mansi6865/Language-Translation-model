{
  "nbformat": 4,
  "nbformat_minor": 0,
  "metadata": {
    "colab": {
      "provenance": [],
      "authorship_tag": "ABX9TyOS8X9+VrUt9r7I5zhvl6ox",
      "include_colab_link": true
    },
    "kernelspec": {
      "name": "python3",
      "display_name": "Python 3"
    },
    "language_info": {
      "name": "python"
    }
  },
  "cells": [
    {
      "cell_type": "markdown",
      "metadata": {
        "id": "view-in-github",
        "colab_type": "text"
      },
      "source": [
        "<a href=\"https://colab.research.google.com/github/mansi6865/Language-Translation-model/blob/main/language_translation.ipynb\" target=\"_parent\"><img src=\"https://colab.research.google.com/assets/colab-badge.svg\" alt=\"Open In Colab\"/></a>"
      ]
    },
    {
      "cell_type": "code",
      "execution_count": null,
      "metadata": {
        "id": "0Blgp1dAT7P5"
      },
      "outputs": [],
      "source": [
        "import string\n",
        "import re\n",
        "from numpy import array, argmax, random, take\n",
        "import pandas as pd\n",
        "from keras.models import Sequential\n",
        "from keras.layers import Dense, LSTM, Embedding, Bidirectional, RepeatVector, TimeDistributed\n",
        "from keras.preprocessing.text import Tokenizer\n",
        "from keras.callbacks import ModelCheckpoint\n",
        "from keras.preprocessing.sequence import pad_sequences\n",
        "from keras.models import load_model\n",
        "from keras import optimizers\n",
        "import matplotlib.pyplot as plt\n",
        "% matplotlib inline\n",
        "pd.set_option('display.max_colwidth', 200)"
      ]
    },
    {
      "cell_type": "markdown",
      "source": [
        "now we'll create a function to read the raw text file (data)- our file consists of English-German sentences"
      ],
      "metadata": {
        "id": "ljtqm2BixKhQ"
      }
    },
    {
      "cell_type": "code",
      "source": [
        "def read_text(filename):\n",
        "  file= open(filename, mode= 'rt', encoding= 'utf-8')\n",
        "  text= file.read()\n",
        "  file.close()\n",
        "  return text"
      ],
      "metadata": {
        "id": "4MvvtfuNxIxC"
      },
      "execution_count": null,
      "outputs": []
    },
    {
      "cell_type": "markdown",
      "source": [
        "now creating a function to split the text in English- German pairs separating them by \\n to make the text look more structured."
      ],
      "metadata": {
        "id": "Y8I4BFi4yIxh"
      }
    },
    {
      "cell_type": "code",
      "source": [
        "def to_lines(text):\n",
        "  sents= text.strip().split('\\n')\n",
        "  sents= [i.split('\\t') for i in sents]\n",
        "  return sents"
      ],
      "metadata": {
        "id": "TcsZMz2NyV22"
      },
      "execution_count": null,
      "outputs": []
    },
    {
      "cell_type": "code",
      "source": [
        "data= read_text(\"/deu.txt\")\n",
        "deu_eng= to_lines(data)\n",
        "deu_eng= array(deu_eng)"
      ],
      "metadata": {
        "id": "oSfsTgJKy-3h"
      },
      "execution_count": null,
      "outputs": []
    },
    {
      "cell_type": "code",
      "source": [
        "from google.colab import drive\n",
        "drive.mount('/content/drive')"
      ],
      "metadata": {
        "id": "0YrglngCP4xr"
      },
      "execution_count": null,
      "outputs": []
    },
    {
      "cell_type": "markdown",
      "source": [
        "we'll only use the first 40,000 sentence pairs out of the total 150,000 entries in the file depending on our system."
      ],
      "metadata": {
        "id": "LTFrcKlJ0rHC"
      }
    },
    {
      "cell_type": "code",
      "source": [
        "deu_eng= deu_eng[:40000,:]"
      ],
      "metadata": {
        "id": "00VroEWP0jMZ"
      },
      "execution_count": null,
      "outputs": []
    },
    {
      "cell_type": "markdown",
      "source": [
        "we'll now feed the data to a Seq2Seq model where the input and output both need to be integer sequences with fixed length. we'll make 2 separate lists of English and German to capture the length of all sentences (German- 11, Eng-8). Due to the difference in the length, we have imported pad sequences to equate their lengths."
      ],
      "metadata": {
        "id": "EsVi5KkoEp8u"
      }
    },
    {
      "cell_type": "code",
      "source": [
        "eng_lines= []\n",
        "ger_lines= []\n",
        "\n",
        "for i in deu_eng[:,0]:\n",
        "  eng_lines.append(len(i.split()))\n",
        "for i in deu_eng[:,1]:\n",
        "  ger_lines.append(len(i.split()))"
      ],
      "metadata": {
        "id": "PyTcBg_31F4K"
      },
      "execution_count": null,
      "outputs": []
    },
    {
      "cell_type": "code",
      "source": [
        "length_df= pd.DataFrame({'eng': eng_lines, 'deu': ger_lines})\n",
        "length_df.hist(bins= 30)\n",
        "plt.show()"
      ],
      "metadata": {
        "id": "yqaMkR2WHfkH",
        "colab": {
          "base_uri": "https://localhost:8080/",
          "height": 281
        },
        "outputId": "9c7feab1-0afa-45f3-c57b-e6630045ea18"
      },
      "execution_count": null,
      "outputs": [
        {
          "output_type": "display_data",
          "data": {
            "text/plain": [
              "<Figure size 432x288 with 2 Axes>"
            ],
            "image/png": "[encoded data removed]"
          },
          "metadata": {
            "needs_background": "light"
          }
        }
      ]
    },
    {
      "cell_type": "code",
      "source": [
        "#tokenizer\n",
        "def tokenization(lines):\n",
        "  tokenizer= Tokenizer()\n",
        "  tokenizer.fit_on_texts(lines)\n",
        "  return tokenizer"
      ],
      "metadata": {
        "id": "BOpKQXhHIfAn"
      },
      "execution_count": null,
      "outputs": []
    },
    {
      "cell_type": "code",
      "source": [
        "#english tokenizer\n",
        "eng_tokenizer= tokenization(deu_eng[:,0])\n",
        "eng_vocab_size= len(eng_tokenizer.word_index)+1\n",
        "eng_length= 8\n",
        "print('English vocabulary size: %d'%eng_vocab_size)"
      ],
      "metadata": {
        "id": "ZYKY8ZrvI5yP",
        "colab": {
          "base_uri": "https://localhost:8080/"
        },
        "outputId": "a1c25939-8ed0-4347-920d-2d0eeb773247"
      },
      "execution_count": null,
      "outputs": [
        {
          "output_type": "stream",
          "name": "stdout",
          "text": [
            "English vocabulary size: 5398\n"
          ]
        }
      ]
    },
    {
      "cell_type": "code",
      "source": [
        "#german tokenizer\n",
        "deu_tokenizer= tokenization(deu_eng[:, 1])\n",
        "deu_vocab_size= len(deu_tokenizer.word_index) +1\n",
        "deu_length= 8\n",
        "print('Deutsch vocabulary size: %d' %deu_vocab_size)"
      ],
      "metadata": {
        "id": "5g4AVZdbJoAf",
        "colab": {
          "base_uri": "https://localhost:8080/"
        },
        "outputId": "eb38b740-084e-4b22-d964-b65579856ca9"
      },
      "execution_count": null,
      "outputs": [
        {
          "output_type": "stream",
          "name": "stdout",
          "text": [
            "Deutsch vocabulary size: 8737\n"
          ]
        }
      ]
    },
    {
      "cell_type": "code",
      "source": [
        "#encoding and padding\n",
        "def encode_sequences(tokenizer, length, lines):\n",
        "  #integer encode sequences\n",
        "  seq= tokenizer.texts_to_sequences(lines)\n",
        "  #pad sequences with 0 values\n",
        "  seq= pad_sequences(seq, maxlen=length, padding='post')\n",
        "  return seq"
      ],
      "metadata": {
        "id": "9ch-TUS-KTpH"
      },
      "execution_count": null,
      "outputs": []
    },
    {
      "cell_type": "markdown",
      "source": [
        "MODEL BUILDING- we split the data in train and testing sections, test size is 0.2, i.e. 80% of the data will be used for training rest for testing\n"
      ],
      "metadata": {
        "id": "j-MTWT1YdIzd"
      }
    },
    {
      "cell_type": "code",
      "source": [
        "from sklearn.model_selection import train_test_split\n",
        "train, test= train_test_split(deu_eng, test_size= 0.2, random_state= 12)\n"
      ],
      "metadata": {
        "id": "bSryWnMydLad"
      },
      "execution_count": null,
      "outputs": []
    },
    {
      "cell_type": "markdown",
      "source": [
        "now we encode the sentences. we encode the german sentences as input sequences and english sentences as the target sequences."
      ],
      "metadata": {
        "id": "cMC689OvPNAm"
      }
    },
    {
      "cell_type": "code",
      "source": [
        "#training data\n",
        "trainX= encode_sequences(deu_tokenizer, deu_length, train[:, 1])\n",
        "trainY= encode_sequences(eng_tokenizer, eng_length, train[:, 0])"
      ],
      "metadata": {
        "id": "4hudftTXParD"
      },
      "execution_count": null,
      "outputs": []
    },
    {
      "cell_type": "code",
      "source": [
        "#validation/testing data\n",
        "testX= encode_sequences(deu_tokenizer, deu_length, test[:, 1])\n",
        "testY= encode_sequences(eng_tokenizer, eng_length, test[:, 0])"
      ],
      "metadata": {
        "id": "YoW8WQ06Qttg"
      },
      "execution_count": null,
      "outputs": []
    },
    {
      "cell_type": "markdown",
      "source": [
        "now we define our Seq2Seq model architecture, we're using LSTM as our encoder, followed by  a dense layer as a decoder"
      ],
      "metadata": {
        "id": "WzGUHz73RHj0"
      }
    },
    {
      "cell_type": "code",
      "source": [
        "#building NMT model\n",
        "def build_model(in_vocab, out_vocab, in_timesteps, out_timesteps, units):\n",
        "  model= Sequential()\n",
        "  model.add(Embedding(in_vocab, units, input_length= in_timesteps, mask_zero= True))\n",
        "  model.add(LSTM(units))\n",
        "  model.add(RepeatVector(out_timesteps))\n",
        "  model.add(LSTM(units, return_sequences= True))\n",
        "  model.add(Dense(out_vocab, activation='softmax'))\n",
        "  return model"
      ],
      "metadata": {
        "id": "aVKZdZr_RLVm"
      },
      "execution_count": null,
      "outputs": []
    },
    {
      "cell_type": "markdown",
      "source": [
        "we also have to use an optimizer for the model, we'll be using RMSprop optimizer in this model as it's a good choice for RNN. LR is learning rate, high learning rate means smaller time for training then model will not be so accurate so we keep lr a bit lower, still keeping in mind the training time of the model."
      ],
      "metadata": {
        "id": "VoUpYwUPT3Dk"
      }
    },
    {
      "cell_type": "code",
      "source": [
        "model= build_model(deu_vocab_size, eng_vocab_size, deu_length, eng_length, 512)\n",
        "#rms= optimizers.RMSprop(learning_rate=0.001)\n",
        "model.compile( loss='sparse_categorical_crossentropy')"
      ],
      "metadata": {
        "id": "_v3591BSUCsh"
      },
      "execution_count": null,
      "outputs": []
    },
    {
      "cell_type": "markdown",
      "source": [
        "we will train the model at 5 epochs with a batch size of 512"
      ],
      "metadata": {
        "id": "EzOP2YsNV3MS"
      }
    },
    {
      "cell_type": "code",
      "source": [
        "filename= 'model.mansi'\n",
        "checkpoint= ModelCheckpoint(filename, monitor='val_loss', verbose=1, save_best_only= True, mode='min')\n",
        "history= model.fit(trainX, trainY.reshape(trainY.shape[0], trainY.shape[1],1),\n",
        "                   epochs=5, batch_size=512,\n",
        "                   validation_split= 0.2,\n",
        "                   callbacks=[checkpoint], verbose= 1)"
      ],
      "metadata": {
        "colab": {
          "base_uri": "https://localhost:8080/"
        },
        "id": "SLCfQTw0UvbX",
        "outputId": "2b044680-48e5-4817-e683-af37e9f38441"
      },
      "execution_count": null,
      "outputs": [
        {
          "output_type": "stream",
          "name": "stdout",
          "text": [
            "Epoch 1/5\n",
            "50/50 [==============================] - ETA: 0s - loss: 3.3420\n",
            "Epoch 1: val_loss improved from inf to 2.63995, saving model to model.mansi\n"
          ]
        },
        {
          "output_type": "stream",
          "name": "stderr",
          "text": [
            "WARNING:absl:Found untraced functions such as lstm_cell_layer_call_fn, lstm_cell_layer_call_and_return_conditional_losses, lstm_cell_1_layer_call_fn, lstm_cell_1_layer_call_and_return_conditional_losses while saving (showing 4 of 4). These functions will not be directly callable after loading.\n"
          ]
        },
        {
          "output_type": "stream",
          "name": "stdout",
          "text": [
            "INFO:tensorflow:Assets written to: model.mansi/assets\n"
          ]
        },
        {
          "output_type": "stream",
          "name": "stderr",
          "text": [
            "INFO:tensorflow:Assets written to: model.mansi/assets\n",
            "WARNING:absl:<keras.layers.recurrent.LSTMCell object at 0x7f1fcf4e7b50> has the same name 'LSTMCell' as a built-in Keras object. Consider renaming <class 'keras.layers.recurrent.LSTMCell'> to avoid naming conflicts when loading with `tf.keras.models.load_model`. If renaming is not possible, pass the object in the `custom_objects` parameter of the load function.\n",
            "WARNING:absl:<keras.layers.recurrent.LSTMCell object at 0x7f1fd8644b50> has the same name 'LSTMCell' as a built-in Keras object. Consider renaming <class 'keras.layers.recurrent.LSTMCell'> to avoid naming conflicts when loading with `tf.keras.models.load_model`. If renaming is not possible, pass the object in the `custom_objects` parameter of the load function.\n"
          ]
        },
        {
          "output_type": "stream",
          "name": "stdout",
          "text": [
            "\b\b\b\b\b\b\b\b\b\b\b\b\b\b\b\b\b\b\b\b\b\b\b\b\b\b\b\b\b\b\b\b\b\b\b\b\b\b\b\b\b\b\b\b\b\b\b\b\b\b\b\b\b\b\b\b\b\b\b\b\b\b\b\r50/50 [==============================] - 214s 4s/step - loss: 3.3420 - val_loss: 2.6400\n",
            "Epoch 2/5\n",
            "50/50 [==============================] - ETA: 0s - loss: 2.6066\n",
            "Epoch 2: val_loss improved from 2.63995 to 2.55773, saving model to model.mansi\n"
          ]
        },
        {
          "output_type": "stream",
          "name": "stderr",
          "text": [
            "WARNING:absl:Found untraced functions such as lstm_cell_layer_call_fn, lstm_cell_layer_call_and_return_conditional_losses, lstm_cell_1_layer_call_fn, lstm_cell_1_layer_call_and_return_conditional_losses while saving (showing 4 of 4). These functions will not be directly callable after loading.\n"
          ]
        },
        {
          "output_type": "stream",
          "name": "stdout",
          "text": [
            "INFO:tensorflow:Assets written to: model.mansi/assets\n"
          ]
        },
        {
          "output_type": "stream",
          "name": "stderr",
          "text": [
            "INFO:tensorflow:Assets written to: model.mansi/assets\n",
            "WARNING:absl:<keras.layers.recurrent.LSTMCell object at 0x7f1fcf4e7b50> has the same name 'LSTMCell' as a built-in Keras object. Consider renaming <class 'keras.layers.recurrent.LSTMCell'> to avoid naming conflicts when loading with `tf.keras.models.load_model`. If renaming is not possible, pass the object in the `custom_objects` parameter of the load function.\n",
            "WARNING:absl:<keras.layers.recurrent.LSTMCell object at 0x7f1fd8644b50> has the same name 'LSTMCell' as a built-in Keras object. Consider renaming <class 'keras.layers.recurrent.LSTMCell'> to avoid naming conflicts when loading with `tf.keras.models.load_model`. If renaming is not possible, pass the object in the `custom_objects` parameter of the load function.\n"
          ]
        },
        {
          "output_type": "stream",
          "name": "stdout",
          "text": [
            "\b\b\b\b\b\b\b\b\b\b\b\b\b\b\b\b\b\b\b\b\b\b\b\b\b\b\b\b\b\b\b\b\b\b\b\b\b\b\b\b\b\b\b\b\b\b\b\b\b\b\b\b\b\b\b\b\b\b\b\b\b\b\b\r50/50 [==============================] - 211s 4s/step - loss: 2.6066 - val_loss: 2.5577\n",
            "Epoch 3/5\n",
            "50/50 [==============================] - ETA: 0s - loss: 2.4876\n",
            "Epoch 3: val_loss improved from 2.55773 to 2.42600, saving model to model.mansi\n"
          ]
        },
        {
          "output_type": "stream",
          "name": "stderr",
          "text": [
            "WARNING:absl:Found untraced functions such as lstm_cell_layer_call_fn, lstm_cell_layer_call_and_return_conditional_losses, lstm_cell_1_layer_call_fn, lstm_cell_1_layer_call_and_return_conditional_losses while saving (showing 4 of 4). These functions will not be directly callable after loading.\n"
          ]
        },
        {
          "output_type": "stream",
          "name": "stdout",
          "text": [
            "INFO:tensorflow:Assets written to: model.mansi/assets\n"
          ]
        },
        {
          "output_type": "stream",
          "name": "stderr",
          "text": [
            "INFO:tensorflow:Assets written to: model.mansi/assets\n",
            "WARNING:absl:<keras.layers.recurrent.LSTMCell object at 0x7f1fcf4e7b50> has the same name 'LSTMCell' as a built-in Keras object. Consider renaming <class 'keras.layers.recurrent.LSTMCell'> to avoid naming conflicts when loading with `tf.keras.models.load_model`. If renaming is not possible, pass the object in the `custom_objects` parameter of the load function.\n",
            "WARNING:absl:<keras.layers.recurrent.LSTMCell object at 0x7f1fd8644b50> has the same name 'LSTMCell' as a built-in Keras object. Consider renaming <class 'keras.layers.recurrent.LSTMCell'> to avoid naming conflicts when loading with `tf.keras.models.load_model`. If renaming is not possible, pass the object in the `custom_objects` parameter of the load function.\n"
          ]
        },
        {
          "output_type": "stream",
          "name": "stdout",
          "text": [
            "\b\b\b\b\b\b\b\b\b\b\b\b\b\b\b\b\b\b\b\b\b\b\b\b\b\b\b\b\b\b\b\b\b\b\b\b\b\b\b\b\b\b\b\b\b\b\b\b\b\b\b\b\b\b\b\b\b\b\b\b\b\b\b\r50/50 [==============================] - 209s 4s/step - loss: 2.4876 - val_loss: 2.4260\n",
            "Epoch 4/5\n",
            "50/50 [==============================] - ETA: 0s - loss: 2.3167\n",
            "Epoch 4: val_loss improved from 2.42600 to 2.29836, saving model to model.mansi\n"
          ]
        },
        {
          "output_type": "stream",
          "name": "stderr",
          "text": [
            "WARNING:absl:Found untraced functions such as lstm_cell_layer_call_fn, lstm_cell_layer_call_and_return_conditional_losses, lstm_cell_1_layer_call_fn, lstm_cell_1_layer_call_and_return_conditional_losses while saving (showing 4 of 4). These functions will not be directly callable after loading.\n"
          ]
        },
        {
          "output_type": "stream",
          "name": "stdout",
          "text": [
            "INFO:tensorflow:Assets written to: model.mansi/assets\n"
          ]
        },
        {
          "output_type": "stream",
          "name": "stderr",
          "text": [
            "INFO:tensorflow:Assets written to: model.mansi/assets\n",
            "WARNING:absl:<keras.layers.recurrent.LSTMCell object at 0x7f1fcf4e7b50> has the same name 'LSTMCell' as a built-in Keras object. Consider renaming <class 'keras.layers.recurrent.LSTMCell'> to avoid naming conflicts when loading with `tf.keras.models.load_model`. If renaming is not possible, pass the object in the `custom_objects` parameter of the load function.\n",
            "WARNING:absl:<keras.layers.recurrent.LSTMCell object at 0x7f1fd8644b50> has the same name 'LSTMCell' as a built-in Keras object. Consider renaming <class 'keras.layers.recurrent.LSTMCell'> to avoid naming conflicts when loading with `tf.keras.models.load_model`. If renaming is not possible, pass the object in the `custom_objects` parameter of the load function.\n"
          ]
        },
        {
          "output_type": "stream",
          "name": "stdout",
          "text": [
            "\b\b\b\b\b\b\b\b\b\b\b\b\b\b\b\b\b\b\b\b\b\b\b\b\b\b\b\b\b\b\b\b\b\b\b\b\b\b\b\b\b\b\b\b\b\b\b\b\b\b\b\b\b\b\b\b\b\b\b\b\b\b\b\r50/50 [==============================] - 209s 4s/step - loss: 2.3167 - val_loss: 2.2984\n",
            "Epoch 5/5\n",
            "50/50 [==============================] - ETA: 0s - loss: 2.1745\n",
            "Epoch 5: val_loss improved from 2.29836 to 2.20577, saving model to model.mansi\n"
          ]
        },
        {
          "output_type": "stream",
          "name": "stderr",
          "text": [
            "WARNING:absl:Found untraced functions such as lstm_cell_layer_call_fn, lstm_cell_layer_call_and_return_conditional_losses, lstm_cell_1_layer_call_fn, lstm_cell_1_layer_call_and_return_conditional_losses while saving (showing 4 of 4). These functions will not be directly callable after loading.\n"
          ]
        },
        {
          "output_type": "stream",
          "name": "stdout",
          "text": [
            "INFO:tensorflow:Assets written to: model.mansi/assets\n"
          ]
        },
        {
          "output_type": "stream",
          "name": "stderr",
          "text": [
            "INFO:tensorflow:Assets written to: model.mansi/assets\n",
            "WARNING:absl:<keras.layers.recurrent.LSTMCell object at 0x7f1fcf4e7b50> has the same name 'LSTMCell' as a built-in Keras object. Consider renaming <class 'keras.layers.recurrent.LSTMCell'> to avoid naming conflicts when loading with `tf.keras.models.load_model`. If renaming is not possible, pass the object in the `custom_objects` parameter of the load function.\n",
            "WARNING:absl:<keras.layers.recurrent.LSTMCell object at 0x7f1fd8644b50> has the same name 'LSTMCell' as a built-in Keras object. Consider renaming <class 'keras.layers.recurrent.LSTMCell'> to avoid naming conflicts when loading with `tf.keras.models.load_model`. If renaming is not possible, pass the object in the `custom_objects` parameter of the load function.\n"
          ]
        },
        {
          "output_type": "stream",
          "name": "stdout",
          "text": [
            "\b\b\b\b\b\b\b\b\b\b\b\b\b\b\b\b\b\b\b\b\b\b\b\b\b\b\b\b\b\b\b\b\b\b\b\b\b\b\b\b\b\b\b\b\b\b\b\b\b\b\b\b\b\b\b\b\b\b\b\b\b\b\b\r50/50 [==============================] - 209s 4s/step - loss: 2.1745 - val_loss: 2.2058\n"
          ]
        }
      ]
    },
    {
      "cell_type": "markdown",
      "source": [
        "the loss reduces from 3.09 to 2.18 with epochs 1 to 5, if we increase the epochs we can decrease the loss even more. now we'll compare the training loss and validation loss"
      ],
      "metadata": {
        "id": "83gIkmLsXNJF"
      }
    },
    {
      "cell_type": "code",
      "source": [
        "plt.plot(history.history['loss'])\n",
        "plt.plot(history.history['val_loss'])\n",
        "plt.legend(['train', 'validation'])\n",
        "plt.show()\n"
      ],
      "metadata": {
        "colab": {
          "base_uri": "https://localhost:8080/",
          "height": 269
        },
        "id": "B0V-GmZ0XMYk",
        "outputId": "6d811eba-206f-4be2-e6f2-c27a2f984111"
      },
      "execution_count": null,
      "outputs": [
        {
          "output_type": "display_data",
          "data": {
            "text/plain": [
              "<Figure size 432x288 with 1 Axes>"
            ],
            "image/png": "[encoded data removed]"
          },
          "metadata": {
            "needs_background": "light"
          }
        }
      ]
    },
    {
      "cell_type": "code",
      "source": [
        "model= load_model('model.mansi')\n",
        "preds= model.predict(testX.reshape((testX.shape[0],testX.shape[1])))"
      ],
      "metadata": {
        "id": "qBGnWUCTYDTM"
      },
      "execution_count": null,
      "outputs": []
    },
    {
      "cell_type": "code",
      "source": [
        "def get_word(n, tokenizer):\n",
        "  for word, index in tokenizer.word_index.items():\n",
        "    if index == n:\n",
        "      return word\n",
        "    return None"
      ],
      "metadata": {
        "id": "SwvRlKLqd6hW"
      },
      "execution_count": null,
      "outputs": []
    },
    {
      "cell_type": "code",
      "source": [
        "preds_text = []\n",
        "for i in preds:\n",
        "       temp = []\n",
        "       for j in range(len(i)):\n",
        "            t = get_word(i[j], eng_tokenizer)\n",
        "            if j > 0:\n",
        "                if (t == get_word(i[j-1], eng_tokenizer)) or (t == None):\n",
        "                     temp.append('')\n",
        "                else:\n",
        "                     temp.append(t)\n",
        "            else:\n",
        "                   if(t == None):\n",
        "                          temp.append('')\n",
        "                   else:\n",
        "                          temp.append(t)\n",
        "\n",
        "       preds_text.append(' '.join(temp))"
      ],
      "metadata": {
        "id": "XbBsHJhzeV5X"
      },
      "execution_count": null,
      "outputs": []
    },
    {
      "cell_type": "code",
      "source": [
        "pred_df= pd.DataFrame({ 'actual': test[:,0], 'predicted': pred_text})\n",
        "pd.set_option('display.max_colwidth', 200)\n",
        "pred.df_head(15)"
      ],
      "metadata": {
        "id": "xPuNn-rJf-Vp"
      },
      "execution_count": null,
      "outputs": []
    },
    {
      "cell_type": "markdown",
      "source": [
        "\n",
        "actual\tpredicted\n",
        "0\ti know that already\ti already know that\n",
        "1\twhos she\twho is she\n",
        "2\tdo you have it\tdid you have it\n",
        "3\tuse your feet\tget your stuff\n",
        "4\tthat was the trouble\tthe\n",
        "5\the took off his coat\the put off his\n",
        "6\ttom went sightseeing\ttom staggered the\n",
        "7\ti tried on the shoes\ti answered my shoes\n",
        "8\topen those doors\tthe window\n",
        "9\tive got to help tom\ti have to help tom\n",
        "10\tits my money\tits my money\n",
        "11\tis it time\tis it time\n",
        "12\ti cant watch\ti cant look in\n",
        "13\the wants more\the wants to change\n",
        "14\twho did you see\twho did you seen"
      ],
      "metadata": {
        "id": "0dKsK7gPaVlA"
      }
    }
  ]
}